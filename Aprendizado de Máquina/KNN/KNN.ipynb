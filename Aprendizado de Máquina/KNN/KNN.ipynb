{
  "nbformat": 4,
  "nbformat_minor": 0,
  "metadata": {
    "colab": {
      "provenance": [],
      "collapsed_sections": []
    },
    "kernelspec": {
      "name": "python3",
      "display_name": "Python 3"
    },
    "language_info": {
      "name": "python"
    }
  },
  "cells": [
    {
      "cell_type": "markdown",
      "metadata": {
        "id": "q1re0J8wsViz"
      },
      "source": [
        "KNN\n",
        "\n",
        "Scikit learning"
      ]
    },
    {
      "cell_type": "code",
      "metadata": {
        "id": "3EmTZrGqvzMd"
      },
      "source": [
        "import pandas as pd\n",
        "import numpy as np\n",
        "import matplotlib.pyplot as plt\n",
        "from matplotlib.colors import ListedColormap\n",
        "import matplotlib.patches as mpatches\n",
        "import seaborn as sb\n",
        "\n",
        "%matplotlib inline\n",
        "plt.rcParams['figure.figsize'] = (16,9)\n",
        "plt.style.use('ggplot')\n",
        "\n",
        "from sklearn.model_selection import train_test_split\n",
        "from sklearn.preprocessing import MinMaxScaler\n",
        "from sklearn.neighbors import KNeighborsClassifier\n",
        "from sklearn.metrics import classification_report\n",
        "from sklearn.metrics import confusion_matrix"
      ],
      "execution_count": null,
      "outputs": []
    },
    {
      "cell_type": "code",
      "metadata": {
        "colab": {
          "base_uri": "https://localhost:8080/",
          "height": 512
        },
        "id": "3jQynB7SxbPK",
        "outputId": "624746ea-b045-4a27-85e5-871773ce1cf9"
      },
      "source": [
        "dataframe = pd.read_csv(r\"reviews_sentiment.csv\",sep=';')\n",
        "dataframe.head(10)"
      ],
      "execution_count": null,
      "outputs": [
        {
          "output_type": "execute_result",
          "data": {
            "text/html": [
              "<div>\n",
              "<style scoped>\n",
              "    .dataframe tbody tr th:only-of-type {\n",
              "        vertical-align: middle;\n",
              "    }\n",
              "\n",
              "    .dataframe tbody tr th {\n",
              "        vertical-align: top;\n",
              "    }\n",
              "\n",
              "    .dataframe thead th {\n",
              "        text-align: right;\n",
              "    }\n",
              "</style>\n",
              "<table border=\"1\" class=\"dataframe\">\n",
              "  <thead>\n",
              "    <tr style=\"text-align: right;\">\n",
              "      <th></th>\n",
              "      <th>Review Title</th>\n",
              "      <th>Review Text</th>\n",
              "      <th>wordcount</th>\n",
              "      <th>titleSentiment</th>\n",
              "      <th>textSentiment</th>\n",
              "      <th>Star Rating</th>\n",
              "      <th>sentimentValue</th>\n",
              "    </tr>\n",
              "  </thead>\n",
              "  <tbody>\n",
              "    <tr>\n",
              "      <th>0</th>\n",
              "      <td>Sin conexión</td>\n",
              "      <td>Hola desde hace algo más de un mes me pone sin...</td>\n",
              "      <td>23</td>\n",
              "      <td>negative</td>\n",
              "      <td>negative</td>\n",
              "      <td>1</td>\n",
              "      <td>-0.486389</td>\n",
              "    </tr>\n",
              "    <tr>\n",
              "      <th>1</th>\n",
              "      <td>faltan cosas</td>\n",
              "      <td>Han mejorado la apariencia pero no</td>\n",
              "      <td>20</td>\n",
              "      <td>negative</td>\n",
              "      <td>negative</td>\n",
              "      <td>1</td>\n",
              "      <td>-0.586187</td>\n",
              "    </tr>\n",
              "    <tr>\n",
              "      <th>2</th>\n",
              "      <td>Es muy buena lo recomiendo</td>\n",
              "      <td>Andres e puto amoooo</td>\n",
              "      <td>4</td>\n",
              "      <td>NaN</td>\n",
              "      <td>negative</td>\n",
              "      <td>1</td>\n",
              "      <td>-0.602240</td>\n",
              "    </tr>\n",
              "    <tr>\n",
              "      <th>3</th>\n",
              "      <td>Version antigua</td>\n",
              "      <td>Me gustana mas la version anterior esta es mas...</td>\n",
              "      <td>17</td>\n",
              "      <td>NaN</td>\n",
              "      <td>negative</td>\n",
              "      <td>1</td>\n",
              "      <td>-0.616271</td>\n",
              "    </tr>\n",
              "    <tr>\n",
              "      <th>4</th>\n",
              "      <td>Esta bien</td>\n",
              "      <td>Sin ser la biblia.... Esta bien</td>\n",
              "      <td>6</td>\n",
              "      <td>negative</td>\n",
              "      <td>negative</td>\n",
              "      <td>1</td>\n",
              "      <td>-0.651784</td>\n",
              "    </tr>\n",
              "    <tr>\n",
              "      <th>5</th>\n",
              "      <td>Buena</td>\n",
              "      <td>Nada del otro mundo pero han mejorado mucho</td>\n",
              "      <td>8</td>\n",
              "      <td>positive</td>\n",
              "      <td>negative</td>\n",
              "      <td>1</td>\n",
              "      <td>-0.720443</td>\n",
              "    </tr>\n",
              "    <tr>\n",
              "      <th>6</th>\n",
              "      <td>De gran ayuda</td>\n",
              "      <td>Lo malo q necesita de …,pero la app es muy buena</td>\n",
              "      <td>23</td>\n",
              "      <td>positive</td>\n",
              "      <td>negative</td>\n",
              "      <td>1</td>\n",
              "      <td>-0.726825</td>\n",
              "    </tr>\n",
              "    <tr>\n",
              "      <th>7</th>\n",
              "      <td>Muy buena</td>\n",
              "      <td>Estaba más acostumbrado al otro diseño, pero e...</td>\n",
              "      <td>16</td>\n",
              "      <td>positive</td>\n",
              "      <td>negative</td>\n",
              "      <td>1</td>\n",
              "      <td>-0.736769</td>\n",
              "    </tr>\n",
              "    <tr>\n",
              "      <th>8</th>\n",
              "      <td>Ta to guapa.</td>\n",
              "      <td>Va de escándalo</td>\n",
              "      <td>21</td>\n",
              "      <td>positive</td>\n",
              "      <td>negative</td>\n",
              "      <td>1</td>\n",
              "      <td>-0.765284</td>\n",
              "    </tr>\n",
              "    <tr>\n",
              "      <th>9</th>\n",
              "      <td>Se han corregido</td>\n",
              "      <td>Han corregido muchos fallos pero el diseño es ...</td>\n",
              "      <td>13</td>\n",
              "      <td>negative</td>\n",
              "      <td>negative</td>\n",
              "      <td>1</td>\n",
              "      <td>-0.797961</td>\n",
              "    </tr>\n",
              "  </tbody>\n",
              "</table>\n",
              "</div>"
            ],
            "text/plain": [
              "                 Review Title  ... sentimentValue\n",
              "0                Sin conexión  ...      -0.486389\n",
              "1                faltan cosas  ...      -0.586187\n",
              "2  Es muy buena lo recomiendo  ...      -0.602240\n",
              "3             Version antigua  ...      -0.616271\n",
              "4                   Esta bien  ...      -0.651784\n",
              "5                       Buena  ...      -0.720443\n",
              "6               De gran ayuda  ...      -0.726825\n",
              "7                   Muy buena  ...      -0.736769\n",
              "8                Ta to guapa.  ...      -0.765284\n",
              "9            Se han corregido  ...      -0.797961\n",
              "\n",
              "[10 rows x 7 columns]"
            ]
          },
          "metadata": {},
          "execution_count": 24
        }
      ]
    },
    {
      "cell_type": "code",
      "metadata": {
        "colab": {
          "base_uri": "https://localhost:8080/",
          "height": 297
        },
        "id": "6Y5ZfcdSyTwo",
        "outputId": "9b162d9c-5b2a-48e9-b3fc-52e70390f32c"
      },
      "source": [
        "dataframe.describe()"
      ],
      "execution_count": null,
      "outputs": [
        {
          "output_type": "execute_result",
          "data": {
            "text/html": [
              "<div>\n",
              "<style scoped>\n",
              "    .dataframe tbody tr th:only-of-type {\n",
              "        vertical-align: middle;\n",
              "    }\n",
              "\n",
              "    .dataframe tbody tr th {\n",
              "        vertical-align: top;\n",
              "    }\n",
              "\n",
              "    .dataframe thead th {\n",
              "        text-align: right;\n",
              "    }\n",
              "</style>\n",
              "<table border=\"1\" class=\"dataframe\">\n",
              "  <thead>\n",
              "    <tr style=\"text-align: right;\">\n",
              "      <th></th>\n",
              "      <th>wordcount</th>\n",
              "      <th>Star Rating</th>\n",
              "      <th>sentimentValue</th>\n",
              "    </tr>\n",
              "  </thead>\n",
              "  <tbody>\n",
              "    <tr>\n",
              "      <th>count</th>\n",
              "      <td>257.000000</td>\n",
              "      <td>257.000000</td>\n",
              "      <td>257.000000</td>\n",
              "    </tr>\n",
              "    <tr>\n",
              "      <th>mean</th>\n",
              "      <td>11.501946</td>\n",
              "      <td>3.420233</td>\n",
              "      <td>0.383849</td>\n",
              "    </tr>\n",
              "    <tr>\n",
              "      <th>std</th>\n",
              "      <td>13.159812</td>\n",
              "      <td>1.409531</td>\n",
              "      <td>0.897987</td>\n",
              "    </tr>\n",
              "    <tr>\n",
              "      <th>min</th>\n",
              "      <td>1.000000</td>\n",
              "      <td>1.000000</td>\n",
              "      <td>-2.276469</td>\n",
              "    </tr>\n",
              "    <tr>\n",
              "      <th>25%</th>\n",
              "      <td>3.000000</td>\n",
              "      <td>3.000000</td>\n",
              "      <td>-0.108144</td>\n",
              "    </tr>\n",
              "    <tr>\n",
              "      <th>50%</th>\n",
              "      <td>7.000000</td>\n",
              "      <td>3.000000</td>\n",
              "      <td>0.264091</td>\n",
              "    </tr>\n",
              "    <tr>\n",
              "      <th>75%</th>\n",
              "      <td>16.000000</td>\n",
              "      <td>5.000000</td>\n",
              "      <td>0.808384</td>\n",
              "    </tr>\n",
              "    <tr>\n",
              "      <th>max</th>\n",
              "      <td>103.000000</td>\n",
              "      <td>5.000000</td>\n",
              "      <td>3.264579</td>\n",
              "    </tr>\n",
              "  </tbody>\n",
              "</table>\n",
              "</div>"
            ],
            "text/plain": [
              "        wordcount  Star Rating  sentimentValue\n",
              "count  257.000000   257.000000      257.000000\n",
              "mean    11.501946     3.420233        0.383849\n",
              "std     13.159812     1.409531        0.897987\n",
              "min      1.000000     1.000000       -2.276469\n",
              "25%      3.000000     3.000000       -0.108144\n",
              "50%      7.000000     3.000000        0.264091\n",
              "75%     16.000000     5.000000        0.808384\n",
              "max    103.000000     5.000000        3.264579"
            ]
          },
          "metadata": {},
          "execution_count": 25
        }
      ]
    },
    {
      "cell_type": "code",
      "metadata": {
        "colab": {
          "base_uri": "https://localhost:8080/",
          "height": 536
        },
        "id": "bT-bCs1xylX9",
        "outputId": "dacdee94-8c00-4ccc-8253-6c85f6563054"
      },
      "source": [
        "dataframe.hist()\n",
        "plt.show()"
      ],
      "execution_count": null,
      "outputs": [
        {
          "output_type": "display_data",
          "data": {
            "image/png": "[encoded data removed]",
            "text/plain": [
              "<Figure size 1152x648 with 4 Axes>"
            ]
          },
          "metadata": {}
        }
      ]
    },
    {
      "cell_type": "code",
      "metadata": {
        "colab": {
          "base_uri": "https://localhost:8080/"
        },
        "id": "zaRluVe_zM3Q",
        "outputId": "f7c76e03-7e3f-471e-c9b2-4f0405ce68be"
      },
      "source": [
        "print(dataframe.groupby('Star Rating').size())"
      ],
      "execution_count": null,
      "outputs": [
        {
          "output_type": "stream",
          "name": "stdout",
          "text": [
            "Star Rating\n",
            "1    37\n",
            "2    24\n",
            "3    78\n",
            "4    30\n",
            "5    88\n",
            "dtype: int64\n"
          ]
        }
      ]
    },
    {
      "cell_type": "markdown",
      "metadata": {
        "id": "oZYBpUkHzptP"
      },
      "source": [
        "Preparar as entradas"
      ]
    },
    {
      "cell_type": "code",
      "metadata": {
        "id": "raxAJJ6gzrwO"
      },
      "source": [
        "X = dataframe[['wordcount','sentimentValue']].values\n",
        "y = dataframe['Star Rating'].values\n",
        "\n",
        "X_train, X_test, y_train, y_test = train_test_split(X, y, random_state=0)\n",
        "scaler = MinMaxScaler()\n",
        "X_train = scaler.fit_transform(X_train)\n",
        "X_test = scaler.transform(X_test)"
      ],
      "execution_count": null,
      "outputs": []
    },
    {
      "cell_type": "code",
      "metadata": {
        "colab": {
          "base_uri": "https://localhost:8080/"
        },
        "id": "ro-l9Toj1Rql",
        "outputId": "1fa09e5e-f0be-42ec-bbf3-4d6b8438f014"
      },
      "source": [
        "n_neighbors = 7\n",
        "\n",
        "knn = KNeighborsClassifier(n_neighbors)\n",
        "knn.fit(X_train, y_train)\n",
        "print('Accuracy of K-NN classifier on training set: {:.2f}'\n",
        "     .format(knn.score(X_train, y_train)))\n",
        "print('Accuracy of K-NN classifier on test set: {:.2f}'\n",
        "     .format(knn.score(X_test, y_test)))"
      ],
      "execution_count": null,
      "outputs": [
        {
          "output_type": "stream",
          "name": "stdout",
          "text": [
            "Accuracy of K-NN classifier on training set: 0.90\n",
            "Accuracy of K-NN classifier on test set: 0.86\n"
          ]
        }
      ]
    },
    {
      "cell_type": "code",
      "metadata": {
        "colab": {
          "base_uri": "https://localhost:8080/"
        },
        "id": "nWrYFD0Y34JY",
        "outputId": "87b0e08e-ecf5-4c4e-e79f-12c887a7c4bd"
      },
      "source": [
        "pred = knn.predict(X_test)\n",
        "\n",
        "print(confusion_matrix(y_test, pred))\n",
        "print(classification_report(y_test, pred))"
      ],
      "execution_count": null,
      "outputs": [
        {
          "output_type": "stream",
          "name": "stdout",
          "text": [
            "[[ 9  0  1  0  0]\n",
            " [ 0  1  0  0  0]\n",
            " [ 0  1 17  0  1]\n",
            " [ 0  0  2  8  0]\n",
            " [ 0  0  4  0 21]]\n",
            "              precision    recall  f1-score   support\n",
            "\n",
            "           1       1.00      0.90      0.95        10\n",
            "           2       0.50      1.00      0.67         1\n",
            "           3       0.71      0.89      0.79        19\n",
            "           4       1.00      0.80      0.89        10\n",
            "           5       0.95      0.84      0.89        25\n",
            "\n",
            "    accuracy                           0.86        65\n",
            "   macro avg       0.83      0.89      0.84        65\n",
            "weighted avg       0.89      0.86      0.87        65\n",
            "\n"
          ]
        }
      ]
    },
    {
      "cell_type": "code",
      "metadata": {
        "colab": {
          "base_uri": "https://localhost:8080/",
          "height": 539
        },
        "id": "IzsXtfzz6JX8",
        "outputId": "7d6b70c3-d5ed-4b2e-ea37-d75423a4b179"
      },
      "source": [
        "h = .02  # step size in the mesh\n",
        "\n",
        "# Create color maps\n",
        "cmap_light = ListedColormap(['#FFAAAA', '#ffcc99', '#ffffb3','#b3ffff','#c2f0c2'])\n",
        "cmap_bold = ListedColormap(['#FF0000', '#ff9933','#FFFF00','#00ffff','#00FF00'])\n",
        "\n",
        "# we create an instance of Neighbours Classifier and fit the data.\n",
        "clf = KNeighborsClassifier(n_neighbors, weights='distance')\n",
        "clf.fit(X, y)\n",
        "\n",
        "# Plot the decision boundary. For that, we will assign a color to each\n",
        "# point in the mesh [x_min, x_max]x[y_min, y_max].\n",
        "x_min, x_max = X[:, 0].min() - 1, X[:, 0].max() + 1\n",
        "y_min, y_max = X[:, 1].min() - 1, X[:, 1].max() + 1\n",
        "xx, yy = np.meshgrid(np.arange(x_min, x_max, h),\n",
        "                         np.arange(y_min, y_max, h))\n",
        "Z = clf.predict(np.c_[xx.ravel(), yy.ravel()])\n",
        "\n",
        "# Put the result into a color plot\n",
        "Z = Z.reshape(xx.shape)\n",
        "plt.figure()\n",
        "plt.pcolormesh(xx, yy, Z, cmap=cmap_light)\n",
        "\n",
        "# Plot also the training points\n",
        "plt.scatter(X[:, 0], X[:, 1], c=y, cmap=cmap_bold,\n",
        "                edgecolor='k', s=20)\n",
        "plt.xlim(xx.min(), xx.max())\n",
        "plt.ylim(yy.min(), yy.max())\n",
        "    \n",
        "patch0 = mpatches.Patch(color='#FF0000', label='1')\n",
        "patch1 = mpatches.Patch(color='#ff9933', label='2')\n",
        "patch2 = mpatches.Patch(color='#FFFF00', label='3')\n",
        "patch3 = mpatches.Patch(color='#00ffff', label='4')\n",
        "patch4 = mpatches.Patch(color='#00FF00', label='5')\n",
        "plt.legend(handles=[patch0, patch1, patch2, patch3,patch4])\n",
        "\n",
        "    \n",
        "plt.title(\"5-Class classification (k = %i, weights = '%s')\"\n",
        "              % (n_neighbors, 'distance'))\n",
        "\n",
        "plt.show()"
      ],
      "execution_count": null,
      "outputs": [
        {
          "output_type": "display_data",
          "data": {
            "image/png": "[encoded data removed]",
            "text/plain": [
              "<Figure size 1152x648 with 1 Axes>"
            ]
          },
          "metadata": {}
        }
      ]
    },
    {
      "cell_type": "code",
      "metadata": {
        "colab": {
          "base_uri": "https://localhost:8080/",
          "height": 624
        },
        "id": "y--JOj4j7s4j",
        "outputId": "ba2d0d0c-791f-4477-bd7a-a1bd037f2444"
      },
      "source": [
        "k_range = range(1, 20)\n",
        "scores = []\n",
        "for k in k_range:\n",
        "    knn = KNeighborsClassifier(n_neighbors = k)\n",
        "    knn.fit(X_train, y_train)\n",
        "    scores.append(knn.score(X_test, y_test))\n",
        "plt.figure()\n",
        "plt.xlabel('k')\n",
        "plt.ylabel('accuracy')\n",
        "plt.scatter(k_range, scores)\n",
        "plt.xticks([0,5,10,15,20])"
      ],
      "execution_count": null,
      "outputs": [
        {
          "output_type": "execute_result",
          "data": {
            "text/plain": [
              "([<matplotlib.axis.XTick at 0x7f0867a64650>,\n",
              "  <matplotlib.axis.XTick at 0x7f0867a64610>,\n",
              "  <matplotlib.axis.XTick at 0x7f0867a641d0>,\n",
              "  <matplotlib.axis.XTick at 0x7f0876ccf950>,\n",
              "  <matplotlib.axis.XTick at 0x7f0876ccffd0>],\n",
              " <a list of 5 Text major ticklabel objects>)"
            ]
          },
          "metadata": {},
          "execution_count": 41
        },
        {
          "output_type": "display_data",
          "data": {
            "image/png": "[encoded data removed]",
            "text/plain": [
              "<Figure size 1152x648 with 1 Axes>"
            ]
          },
          "metadata": {}
        }
      ]
    },
    {
      "cell_type": "code",
      "metadata": {
        "colab": {
          "base_uri": "https://localhost:8080/"
        },
        "id": "elgsjARi9XXj",
        "outputId": "03341e7d-c09b-4b9e-9294-81200eb9fd2b"
      },
      "source": [
        "print(clf.predict([[20,1.0]]))"
      ],
      "execution_count": null,
      "outputs": [
        {
          "output_type": "stream",
          "name": "stdout",
          "text": [
            "[3]\n"
          ]
        }
      ]
    },
    {
      "cell_type": "code",
      "metadata": {
        "colab": {
          "base_uri": "https://localhost:8080/"
        },
        "id": "-7Yi-_KP9uoF",
        "outputId": "2aab050e-99e2-42c1-db09-deef5aaddf34"
      },
      "source": [
        "print(clf.predict_proba([[20,0.0]]))"
      ],
      "execution_count": null,
      "outputs": [
        {
          "output_type": "stream",
          "name": "stdout",
          "text": [
            "[[0.0025011  0.0253093  0.97218959 0.         0.        ]]\n"
          ]
        }
      ]
    }
  ]
}