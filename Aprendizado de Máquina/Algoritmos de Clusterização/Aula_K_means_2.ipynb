{
  "nbformat": 4,
  "nbformat_minor": 0,
  "metadata": {
    "colab": {
      "name": "Aula_K-means_2.ipynb",
      "provenance": []
    },
    "kernelspec": {
      "name": "python3",
      "display_name": "Python 3"
    },
    "language_info": {
      "name": "python"
    }
  },
  "cells": [
    {
      "cell_type": "code",
      "metadata": {
        "id": "5ochaWWPIggD"
      },
      "source": [
        "from sklearn.cluster import KMeans\n",
        "import matplotlib.pyplot as plt\n",
        "import pandas as pd"
      ],
      "execution_count": 1,
      "outputs": []
    },
    {
      "cell_type": "code",
      "metadata": {
        "colab": {
          "base_uri": "https://localhost:8080/",
          "height": 206
        },
        "id": "4573zDYzJOcT",
        "outputId": "91eef11c-7355-4c54-e20a-4d8686de7c1f"
      },
      "source": [
        "iris = pd.read_csv(\"iris.csv\")\n",
        "iris.head()"
      ],
      "execution_count": 2,
      "outputs": [
        {
          "output_type": "execute_result",
          "data": {
            "text/html": [
              "<div>\n",
              "<style scoped>\n",
              "    .dataframe tbody tr th:only-of-type {\n",
              "        vertical-align: middle;\n",
              "    }\n",
              "\n",
              "    .dataframe tbody tr th {\n",
              "        vertical-align: top;\n",
              "    }\n",
              "\n",
              "    .dataframe thead th {\n",
              "        text-align: right;\n",
              "    }\n",
              "</style>\n",
              "<table border=\"1\" class=\"dataframe\">\n",
              "  <thead>\n",
              "    <tr style=\"text-align: right;\">\n",
              "      <th></th>\n",
              "      <th>sepal.length</th>\n",
              "      <th>sepal.width</th>\n",
              "      <th>petal.length</th>\n",
              "      <th>petal.width</th>\n",
              "      <th>variety</th>\n",
              "    </tr>\n",
              "  </thead>\n",
              "  <tbody>\n",
              "    <tr>\n",
              "      <th>0</th>\n",
              "      <td>5.1</td>\n",
              "      <td>3.5</td>\n",
              "      <td>1.4</td>\n",
              "      <td>0.2</td>\n",
              "      <td>Setosa</td>\n",
              "    </tr>\n",
              "    <tr>\n",
              "      <th>1</th>\n",
              "      <td>4.9</td>\n",
              "      <td>3.0</td>\n",
              "      <td>1.4</td>\n",
              "      <td>0.2</td>\n",
              "      <td>Setosa</td>\n",
              "    </tr>\n",
              "    <tr>\n",
              "      <th>2</th>\n",
              "      <td>4.7</td>\n",
              "      <td>3.2</td>\n",
              "      <td>1.3</td>\n",
              "      <td>0.2</td>\n",
              "      <td>Setosa</td>\n",
              "    </tr>\n",
              "    <tr>\n",
              "      <th>3</th>\n",
              "      <td>4.6</td>\n",
              "      <td>3.1</td>\n",
              "      <td>1.5</td>\n",
              "      <td>0.2</td>\n",
              "      <td>Setosa</td>\n",
              "    </tr>\n",
              "    <tr>\n",
              "      <th>4</th>\n",
              "      <td>5.0</td>\n",
              "      <td>3.6</td>\n",
              "      <td>1.4</td>\n",
              "      <td>0.2</td>\n",
              "      <td>Setosa</td>\n",
              "    </tr>\n",
              "  </tbody>\n",
              "</table>\n",
              "</div>"
            ],
            "text/plain": [
              "   sepal.length  sepal.width  petal.length  petal.width variety\n",
              "0           5.1          3.5           1.4          0.2  Setosa\n",
              "1           4.9          3.0           1.4          0.2  Setosa\n",
              "2           4.7          3.2           1.3          0.2  Setosa\n",
              "3           4.6          3.1           1.5          0.2  Setosa\n",
              "4           5.0          3.6           1.4          0.2  Setosa"
            ]
          },
          "metadata": {},
          "execution_count": 2
        }
      ]
    },
    {
      "cell_type": "code",
      "metadata": {
        "colab": {
          "base_uri": "https://localhost:8080/"
        },
        "id": "B6WcJJp9JndV",
        "outputId": "51e8d073-8128-44ee-96bc-93b127909361"
      },
      "source": [
        "X = iris.iloc[:,0:4].values\n",
        "X"
      ],
      "execution_count": 3,
      "outputs": [
        {
          "output_type": "execute_result",
          "data": {
            "text/plain": [
              "array([[5.1, 3.5, 1.4, 0.2],\n",
              "       [4.9, 3. , 1.4, 0.2],\n",
              "       [4.7, 3.2, 1.3, 0.2],\n",
              "       [4.6, 3.1, 1.5, 0.2],\n",
              "       [5. , 3.6, 1.4, 0.2],\n",
              "       [5.4, 3.9, 1.7, 0.4],\n",
              "       [4.6, 3.4, 1.4, 0.3],\n",
              "       [5. , 3.4, 1.5, 0.2],\n",
              "       [4.4, 2.9, 1.4, 0.2],\n",
              "       [4.9, 3.1, 1.5, 0.1],\n",
              "       [5.4, 3.7, 1.5, 0.2],\n",
              "       [4.8, 3.4, 1.6, 0.2],\n",
              "       [4.8, 3. , 1.4, 0.1],\n",
              "       [4.3, 3. , 1.1, 0.1],\n",
              "       [5.8, 4. , 1.2, 0.2],\n",
              "       [5.7, 4.4, 1.5, 0.4],\n",
              "       [5.4, 3.9, 1.3, 0.4],\n",
              "       [5.1, 3.5, 1.4, 0.3],\n",
              "       [5.7, 3.8, 1.7, 0.3],\n",
              "       [5.1, 3.8, 1.5, 0.3],\n",
              "       [5.4, 3.4, 1.7, 0.2],\n",
              "       [5.1, 3.7, 1.5, 0.4],\n",
              "       [4.6, 3.6, 1. , 0.2],\n",
              "       [5.1, 3.3, 1.7, 0.5],\n",
              "       [4.8, 3.4, 1.9, 0.2],\n",
              "       [5. , 3. , 1.6, 0.2],\n",
              "       [5. , 3.4, 1.6, 0.4],\n",
              "       [5.2, 3.5, 1.5, 0.2],\n",
              "       [5.2, 3.4, 1.4, 0.2],\n",
              "       [4.7, 3.2, 1.6, 0.2],\n",
              "       [4.8, 3.1, 1.6, 0.2],\n",
              "       [5.4, 3.4, 1.5, 0.4],\n",
              "       [5.2, 4.1, 1.5, 0.1],\n",
              "       [5.5, 4.2, 1.4, 0.2],\n",
              "       [4.9, 3.1, 1.5, 0.2],\n",
              "       [5. , 3.2, 1.2, 0.2],\n",
              "       [5.5, 3.5, 1.3, 0.2],\n",
              "       [4.9, 3.6, 1.4, 0.1],\n",
              "       [4.4, 3. , 1.3, 0.2],\n",
              "       [5.1, 3.4, 1.5, 0.2],\n",
              "       [5. , 3.5, 1.3, 0.3],\n",
              "       [4.5, 2.3, 1.3, 0.3],\n",
              "       [4.4, 3.2, 1.3, 0.2],\n",
              "       [5. , 3.5, 1.6, 0.6],\n",
              "       [5.1, 3.8, 1.9, 0.4],\n",
              "       [4.8, 3. , 1.4, 0.3],\n",
              "       [5.1, 3.8, 1.6, 0.2],\n",
              "       [4.6, 3.2, 1.4, 0.2],\n",
              "       [5.3, 3.7, 1.5, 0.2],\n",
              "       [5. , 3.3, 1.4, 0.2],\n",
              "       [7. , 3.2, 4.7, 1.4],\n",
              "       [6.4, 3.2, 4.5, 1.5],\n",
              "       [6.9, 3.1, 4.9, 1.5],\n",
              "       [5.5, 2.3, 4. , 1.3],\n",
              "       [6.5, 2.8, 4.6, 1.5],\n",
              "       [5.7, 2.8, 4.5, 1.3],\n",
              "       [6.3, 3.3, 4.7, 1.6],\n",
              "       [4.9, 2.4, 3.3, 1. ],\n",
              "       [6.6, 2.9, 4.6, 1.3],\n",
              "       [5.2, 2.7, 3.9, 1.4],\n",
              "       [5. , 2. , 3.5, 1. ],\n",
              "       [5.9, 3. , 4.2, 1.5],\n",
              "       [6. , 2.2, 4. , 1. ],\n",
              "       [6.1, 2.9, 4.7, 1.4],\n",
              "       [5.6, 2.9, 3.6, 1.3],\n",
              "       [6.7, 3.1, 4.4, 1.4],\n",
              "       [5.6, 3. , 4.5, 1.5],\n",
              "       [5.8, 2.7, 4.1, 1. ],\n",
              "       [6.2, 2.2, 4.5, 1.5],\n",
              "       [5.6, 2.5, 3.9, 1.1],\n",
              "       [5.9, 3.2, 4.8, 1.8],\n",
              "       [6.1, 2.8, 4. , 1.3],\n",
              "       [6.3, 2.5, 4.9, 1.5],\n",
              "       [6.1, 2.8, 4.7, 1.2],\n",
              "       [6.4, 2.9, 4.3, 1.3],\n",
              "       [6.6, 3. , 4.4, 1.4],\n",
              "       [6.8, 2.8, 4.8, 1.4],\n",
              "       [6.7, 3. , 5. , 1.7],\n",
              "       [6. , 2.9, 4.5, 1.5],\n",
              "       [5.7, 2.6, 3.5, 1. ],\n",
              "       [5.5, 2.4, 3.8, 1.1],\n",
              "       [5.5, 2.4, 3.7, 1. ],\n",
              "       [5.8, 2.7, 3.9, 1.2],\n",
              "       [6. , 2.7, 5.1, 1.6],\n",
              "       [5.4, 3. , 4.5, 1.5],\n",
              "       [6. , 3.4, 4.5, 1.6],\n",
              "       [6.7, 3.1, 4.7, 1.5],\n",
              "       [6.3, 2.3, 4.4, 1.3],\n",
              "       [5.6, 3. , 4.1, 1.3],\n",
              "       [5.5, 2.5, 4. , 1.3],\n",
              "       [5.5, 2.6, 4.4, 1.2],\n",
              "       [6.1, 3. , 4.6, 1.4],\n",
              "       [5.8, 2.6, 4. , 1.2],\n",
              "       [5. , 2.3, 3.3, 1. ],\n",
              "       [5.6, 2.7, 4.2, 1.3],\n",
              "       [5.7, 3. , 4.2, 1.2],\n",
              "       [5.7, 2.9, 4.2, 1.3],\n",
              "       [6.2, 2.9, 4.3, 1.3],\n",
              "       [5.1, 2.5, 3. , 1.1],\n",
              "       [5.7, 2.8, 4.1, 1.3],\n",
              "       [6.3, 3.3, 6. , 2.5],\n",
              "       [5.8, 2.7, 5.1, 1.9],\n",
              "       [7.1, 3. , 5.9, 2.1],\n",
              "       [6.3, 2.9, 5.6, 1.8],\n",
              "       [6.5, 3. , 5.8, 2.2],\n",
              "       [7.6, 3. , 6.6, 2.1],\n",
              "       [4.9, 2.5, 4.5, 1.7],\n",
              "       [7.3, 2.9, 6.3, 1.8],\n",
              "       [6.7, 2.5, 5.8, 1.8],\n",
              "       [7.2, 3.6, 6.1, 2.5],\n",
              "       [6.5, 3.2, 5.1, 2. ],\n",
              "       [6.4, 2.7, 5.3, 1.9],\n",
              "       [6.8, 3. , 5.5, 2.1],\n",
              "       [5.7, 2.5, 5. , 2. ],\n",
              "       [5.8, 2.8, 5.1, 2.4],\n",
              "       [6.4, 3.2, 5.3, 2.3],\n",
              "       [6.5, 3. , 5.5, 1.8],\n",
              "       [7.7, 3.8, 6.7, 2.2],\n",
              "       [7.7, 2.6, 6.9, 2.3],\n",
              "       [6. , 2.2, 5. , 1.5],\n",
              "       [6.9, 3.2, 5.7, 2.3],\n",
              "       [5.6, 2.8, 4.9, 2. ],\n",
              "       [7.7, 2.8, 6.7, 2. ],\n",
              "       [6.3, 2.7, 4.9, 1.8],\n",
              "       [6.7, 3.3, 5.7, 2.1],\n",
              "       [7.2, 3.2, 6. , 1.8],\n",
              "       [6.2, 2.8, 4.8, 1.8],\n",
              "       [6.1, 3. , 4.9, 1.8],\n",
              "       [6.4, 2.8, 5.6, 2.1],\n",
              "       [7.2, 3. , 5.8, 1.6],\n",
              "       [7.4, 2.8, 6.1, 1.9],\n",
              "       [7.9, 3.8, 6.4, 2. ],\n",
              "       [6.4, 2.8, 5.6, 2.2],\n",
              "       [6.3, 2.8, 5.1, 1.5],\n",
              "       [6.1, 2.6, 5.6, 1.4],\n",
              "       [7.7, 3. , 6.1, 2.3],\n",
              "       [6.3, 3.4, 5.6, 2.4],\n",
              "       [6.4, 3.1, 5.5, 1.8],\n",
              "       [6. , 3. , 4.8, 1.8],\n",
              "       [6.9, 3.1, 5.4, 2.1],\n",
              "       [6.7, 3.1, 5.6, 2.4],\n",
              "       [6.9, 3.1, 5.1, 2.3],\n",
              "       [5.8, 2.7, 5.1, 1.9],\n",
              "       [6.8, 3.2, 5.9, 2.3],\n",
              "       [6.7, 3.3, 5.7, 2.5],\n",
              "       [6.7, 3. , 5.2, 2.3],\n",
              "       [6.3, 2.5, 5. , 1.9],\n",
              "       [6.5, 3. , 5.2, 2. ],\n",
              "       [6.2, 3.4, 5.4, 2.3],\n",
              "       [5.9, 3. , 5.1, 1.8]])"
            ]
          },
          "metadata": {},
          "execution_count": 3
        }
      ]
    },
    {
      "cell_type": "code",
      "metadata": {
        "colab": {
          "base_uri": "https://localhost:8080/"
        },
        "id": "9B0XPNL2J-E2",
        "outputId": "4f1f2a7e-205b-4515-c492-9763df117dad"
      },
      "source": [
        "kmeans = KMeans(n_clusters=3,init='random',random_state=1234)\n",
        "kmeans.fit(X)\n",
        "kmeans.cluster_centers_"
      ],
      "execution_count": 4,
      "outputs": [
        {
          "output_type": "execute_result",
          "data": {
            "text/plain": [
              "array([[5.006     , 3.428     , 1.462     , 0.246     ],\n",
              "       [5.9016129 , 2.7483871 , 4.39354839, 1.43387097],\n",
              "       [6.85      , 3.07368421, 5.74210526, 2.07105263]])"
            ]
          },
          "metadata": {},
          "execution_count": 4
        }
      ]
    },
    {
      "cell_type": "code",
      "metadata": {
        "colab": {
          "base_uri": "https://localhost:8080/"
        },
        "id": "DuA7m9aiK2OK",
        "outputId": "e3b6da6e-8477-4fa2-c58a-c54e22c2a944"
      },
      "source": [
        "distance = kmeans.fit_transform(X)\n",
        "distance"
      ],
      "execution_count": 5,
      "outputs": [
        {
          "output_type": "execute_result",
          "data": {
            "text/plain": [
              "array([[0.14135063, 3.41925061, 5.0595416 ],\n",
              "       [0.44763825, 3.39857426, 5.11494335],\n",
              "       [0.4171091 , 3.56935666, 5.27935534],\n",
              "       [0.52533799, 3.42240962, 5.15358977],\n",
              "       [0.18862662, 3.46726403, 5.10433388],\n",
              "       [0.67703767, 3.14673162, 4.68148797],\n",
              "       [0.4151867 , 3.51650264, 5.21147652],\n",
              "       [0.06618157, 3.33654987, 5.00252706],\n",
              "       [0.80745278, 3.57233779, 5.32798107],\n",
              "       [0.37627118, 3.3583767 , 5.06790865],\n",
              "       [0.4824728 , 3.32449131, 4.89806763],\n",
              "       [0.25373214, 3.31126872, 4.9966845 ],\n",
              "       [0.50077939, 3.46661272, 5.19103612],\n",
              "       [0.91322505, 3.90578362, 5.65173594],\n",
              "       [1.01409073, 3.646649  , 5.10804455],\n",
              "       [1.20481534, 3.49427881, 4.88564095],\n",
              "       [0.6542018 , 3.495248  , 5.03090587],\n",
              "       [0.1441527 , 3.38444981, 5.02342022],\n",
              "       [0.82436642, 3.11245944, 4.61792995],\n",
              "       [0.38933276, 3.37738931, 4.97213426],\n",
              "       [0.46344363, 3.07471224, 4.6955761 ],\n",
              "       [0.3286031 , 3.31506588, 4.9236821 ],\n",
              "       [0.64029681, 3.93167253, 5.59713396],\n",
              "       [0.38259639, 3.01233762, 4.68193765],\n",
              "       [0.48701129, 3.06241269, 4.75095704],\n",
              "       [0.45208406, 3.19414543, 4.90772894],\n",
              "       [0.20875823, 3.17967089, 4.84545508],\n",
              "       [0.21536016, 3.30941724, 4.93969029],\n",
              "       [0.21066561, 3.37648183, 5.01833618],\n",
              "       [0.40838707, 3.31272968, 5.02954567],\n",
              "       [0.41373905, 3.26550651, 4.98608729],\n",
              "       [0.42565244, 3.18083736, 4.79550372],\n",
              "       [0.71552778, 3.53142353, 5.06520776],\n",
              "       [0.91977171, 3.57102821, 5.04438334],\n",
              "       [0.34982853, 3.31992769, 5.02985959],\n",
              "       [0.35039977, 3.56904033, 5.25071556],\n",
              "       [0.52685861, 3.43783276, 5.02368214],\n",
              "       [0.25686572, 3.53114948, 5.17865184],\n",
              "       [0.76077592, 3.66205264, 5.40750095],\n",
              "       [0.11480418, 3.31092773, 4.9664149 ],\n",
              "       [0.18541845, 3.49764675, 5.14520862],\n",
              "       [1.24803045, 3.60850034, 5.38423754],\n",
              "       [0.6690142 , 3.68120561, 5.40847417],\n",
              "       [0.38675574, 3.14278239, 4.78803478],\n",
              "       [0.60231221, 3.00585191, 4.59828494],\n",
              "       [0.48205809, 3.39468045, 5.11844067],\n",
              "       [0.41034132, 3.32788568, 4.92421655],\n",
              "       [0.47199576, 3.51879523, 5.23766854],\n",
              "       [0.40494444, 3.34104251, 4.92859681],\n",
              "       [0.14959947, 3.40601705, 5.08216833],\n",
              "       [3.98049997, 1.22697525, 1.25489071],\n",
              "       [3.57731464, 0.684141  , 1.44477759],\n",
              "       [4.13366423, 1.17527644, 1.01903626],\n",
              "       [3.01144152, 0.73153652, 2.45978458],\n",
              "       [3.74779669, 0.63853451, 1.3520017 ],\n",
              "       [3.34908644, 0.26937898, 1.88009327],\n",
              "       [3.74283048, 0.76452634, 1.28902785],\n",
              "       [2.23937045, 1.58388575, 3.37155487],\n",
              "       [3.71181627, 0.75582717, 1.41123804],\n",
              "       [2.8005678 , 0.85984838, 2.58955659],\n",
              "       [2.60022691, 1.53611907, 3.27864111],\n",
              "       [3.17042268, 0.32426175, 1.90055758],\n",
              "       [3.08317693, 0.80841374, 2.38073698],\n",
              "       [3.64581678, 0.39674141, 1.45909603],\n",
              "       [2.51268382, 0.87269542, 2.60303733],\n",
              "       [3.59732957, 0.87306498, 1.50822767],\n",
              "       [3.36719171, 0.41229163, 1.85387593],\n",
              "       [2.94753796, 0.53579956, 2.25517257],\n",
              "       [3.70615434, 0.6367639 , 1.74778451],\n",
              "       [2.80841236, 0.71254917, 2.49557781],\n",
              "       [3.79583719, 0.7093731 , 1.37094403],\n",
              "       [3.02383531, 0.46349013, 2.06563694],\n",
              "       [3.99098735, 0.69373966, 1.29106776],\n",
              "       [3.60360653, 0.43661144, 1.57547425],\n",
              "       [3.37448959, 0.54593856, 1.70495043],\n",
              "       [3.56196294, 0.74313017, 1.52298639],\n",
              "       [4.01083283, 0.98798453, 1.18965415],\n",
              "       [4.20528001, 1.06739835, 0.84636259],\n",
              "       [3.47401497, 0.21993519, 1.61913335],\n",
              "       [2.42676328, 1.0243726 , 2.77868071],\n",
              "       [2.73795179, 0.86396528, 2.6440625 ],\n",
              "       [2.62259032, 0.97566381, 2.75566654],\n",
              "       [2.83096803, 0.55763082, 2.32254696],\n",
              "       [4.07263797, 0.73395781, 1.22324554],\n",
              "       [3.33772078, 0.57500396, 1.9942056 ],\n",
              "       [3.47153856, 0.68790275, 1.61049622],\n",
              "       [3.87741924, 0.92700552, 1.19803047],\n",
              "       [3.56224367, 0.61459444, 1.81572464],\n",
              "       [2.93359506, 0.50830256, 2.20430516],\n",
              "       [2.94237659, 0.6291191 , 2.40438484],\n",
              "       [3.23598208, 0.48790256, 2.14635877],\n",
              "       [3.5438369 , 0.38266958, 1.52402278],\n",
              "       [2.94407541, 0.49185351, 2.26286106],\n",
              "       [2.28455247, 1.5485635 , 3.33648305],\n",
              "       [3.08064604, 0.3856087 , 2.16211718],\n",
              "       [3.01190637, 0.44284695, 2.11299567],\n",
              "       [3.0607156 , 0.3449879 , 2.07973003],\n",
              "       [3.29690461, 0.37241653, 1.76829182],\n",
              "       [1.99117553, 1.66064034, 3.44291999],\n",
              "       [2.99098312, 0.38393196, 2.16527941],\n",
              "       [5.23113563, 2.0445799 , 0.77731871],\n",
              "       [4.13898297, 0.85382472, 1.29757391],\n",
              "       [5.26319105, 2.05245342, 0.30610139],\n",
              "       [4.63585807, 1.33089245, 0.65293923],\n",
              "       [5.00515534, 1.72813078, 0.38458885],\n",
              "       [6.06204421, 2.87401886, 1.14225684],\n",
              "       [3.49513662, 1.07101875, 2.4108337 ],\n",
              "       [5.6002125 , 2.39730707, 0.78573677],\n",
              "       [4.9963967 , 1.67668563, 0.65454939],\n",
              "       [5.60667281, 2.54158648, 0.8435596 ],\n",
              "       [4.31225927, 1.17541367, 0.74552218],\n",
              "       [4.46533089, 1.13563278, 0.75289837],\n",
              "       [4.81086063, 1.59322675, 0.25958095],\n",
              "       [4.11543193, 0.88917352, 1.48572618],\n",
              "       [4.34736472, 1.20227628, 1.30303821],\n",
              "       [4.57650303, 1.42273608, 0.68288333],\n",
              "       [4.59734489, 1.33403966, 0.50991553],\n",
              "       [6.21697515, 3.20105585, 1.47791217],\n",
              "       [6.46018421, 3.20759942, 1.52971038],\n",
              "       [4.07258886, 0.82617494, 1.53708992],\n",
              "       [5.08121836, 1.91251832, 0.26952816],\n",
              "       [3.95519658, 0.81891975, 1.5334904 ],\n",
              "       [6.17779734, 2.9794431 , 1.31149299],\n",
              "       [4.05452587, 0.74269596, 1.10668455],\n",
              "       [4.92787784, 1.75847731, 0.27627819],\n",
              "       [5.27958142, 2.14580999, 0.52766931],\n",
              "       [3.92137476, 0.62526165, 1.20765678],\n",
              "       [3.95155412, 0.70228926, 1.16212743],\n",
              "       [4.78518338, 1.4663925 , 0.54629196],\n",
              "       [5.06442297, 1.93773659, 0.59428255],\n",
              "       [5.51111422, 2.31885342, 0.7312665 ],\n",
              "       [5.99783127, 3.07340053, 1.43802246],\n",
              "       [4.8248088 , 1.51444141, 0.5605572 ],\n",
              "       [4.10808715, 0.81536685, 1.05631592],\n",
              "       [4.50967626, 1.23209127, 1.12133058],\n",
              "       [5.75940796, 2.6381171 , 0.95311851],\n",
              "       [4.84127876, 1.72401927, 0.73306362],\n",
              "       [4.557541  , 1.31541133, 0.57903109],\n",
              "       [3.83775716, 0.61011676, 1.29960041],\n",
              "       [4.7581488 , 1.60532899, 0.34794609],\n",
              "       [4.97393004, 1.77481954, 0.3893492 ],\n",
              "       [4.59878027, 1.53937059, 0.68403844],\n",
              "       [4.13898297, 0.85382472, 1.29757391],\n",
              "       [5.21394093, 2.00764279, 0.30952112],\n",
              "       [5.09187392, 1.94554509, 0.50939919],\n",
              "       [4.60916261, 1.44957743, 0.61173881],\n",
              "       [4.21767471, 0.89747884, 1.10072376],\n",
              "       [4.41184542, 1.17993324, 0.65334214],\n",
              "       [4.59925864, 1.50889317, 0.83572418],\n",
              "       [4.0782815 , 0.83452741, 1.1805499 ]])"
            ]
          },
          "metadata": {},
          "execution_count": 5
        }
      ]
    },
    {
      "cell_type": "code",
      "metadata": {
        "colab": {
          "base_uri": "https://localhost:8080/",
          "height": 469
        },
        "id": "6AcW5t6qLWpd",
        "outputId": "a57be9ed-7011-4f68-eb06-e32feb35e9ec"
      },
      "source": [
        "wcss = []\n",
        "\n",
        "for i in range(1,11):\n",
        "  kmeans = KMeans(n_clusters=i, init='random',random_state=1234)\n",
        "  kmeans.fit(X)\n",
        "  print(i,kmeans.inertia_)\n",
        "  wcss.append(kmeans.inertia_)\n",
        "\n",
        "plt.plot(range(1,11),wcss)\n",
        "plt.title('Elbow')\n",
        "plt.xlabel('clusters')\n",
        "plt.ylabel('wss')\n",
        "plt.show()"
      ],
      "execution_count": 6,
      "outputs": [
        {
          "output_type": "stream",
          "name": "stdout",
          "text": [
            "1 681.3706\n",
            "2 152.34795176035792\n",
            "3 78.85144142614601\n",
            "4 57.228473214285714\n",
            "5 46.44618205128205\n",
            "6 39.03998724608725\n",
            "7 34.29822966507177\n",
            "8 30.47622294372295\n",
            "9 28.086321511821517\n",
            "10 26.046705250889467\n"
          ]
        },
        {
          "output_type": "display_data",
          "data": {
            "image/png": "[encoded data removed]",
            "text/plain": [
              "<Figure size 432x288 with 1 Axes>"
            ]
          },
          "metadata": {
            "needs_background": "light"
          }
        }
      ]
    },
    {
      "cell_type": "code",
      "metadata": {
        "colab": {
          "base_uri": "https://localhost:8080/"
        },
        "id": "Ur0jWrNVM_NV",
        "outputId": "3c1dd2aa-c6e5-499a-908a-147174544ceb"
      },
      "source": [
        "data = [\n",
        "        [4.12, 3.4, 1.6, 0.7],\n",
        "        [5.2, 5.8, 5.2, 6.7],\n",
        "        [3.1, 3.5, 3.3, 3.0]\n",
        "]\n",
        "kmeans.predict(data)"
      ],
      "execution_count": 7,
      "outputs": [
        {
          "output_type": "execute_result",
          "data": {
            "text/plain": [
              "array([9, 7, 8], dtype=int32)"
            ]
          },
          "metadata": {},
          "execution_count": 7
        }
      ]
    },
    {
      "cell_type": "code",
      "metadata": {
        "colab": {
          "base_uri": "https://localhost:8080/",
          "height": 282
        },
        "id": "lnKNcue8Nb6k",
        "outputId": "9cb778b4-8a20-4118-d688-f12f73339886"
      },
      "source": [
        "plt.scatter(X[:,0], X[:,1], s=100, c= kmeans.labels_)\n",
        "plt.scatter(kmeans.cluster_centers_[:,0],kmeans.cluster_centers_[:,1],s=300, c='red', label = 'Centroids')\n",
        "plt.xlabel('SepalLength')\n",
        "plt.ylabel('SepalWidth')\n",
        "plt.legend()\n",
        "\n",
        "plt.show()"
      ],
      "execution_count": 8,
      "outputs": [
        {
          "output_type": "display_data",
          "data": {
            "image/png": "[encoded data removed]",
            "text/plain": [
              "<Figure size 432x288 with 1 Axes>"
            ]
          },
          "metadata": {
            "needs_background": "light"
          }
        }
      ]
    }
  ]
}