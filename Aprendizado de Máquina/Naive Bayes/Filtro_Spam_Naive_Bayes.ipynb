{
  "nbformat": 4,
  "nbformat_minor": 0,
  "metadata": {
    "colab": {
      "provenance": []
    },
    "kernelspec": {
      "name": "python3",
      "display_name": "Python 3"
    },
    "language_info": {
      "name": "python"
    }
  },
  "cells": [
    {
      "cell_type": "code",
      "metadata": {
        "id": "snYr2YRXFxHc"
      },
      "source": [
        "import pandas as pd\n",
        "from sklearn.feature_extraction.text import CountVectorizer\n",
        "from sklearn.naive_bayes import MultinomialNB\n",
        "from sklearn.metrics import accuracy_score\n",
        "from sklearn.model_selection import train_test_split\n"
      ],
      "execution_count": null,
      "outputs": []
    },
    {
      "cell_type": "code",
      "metadata": {
        "id": "rzO0JNT5IEKt"
      },
      "source": [
        "spam_dataset = pd.read_csv('spam_ham_dataset.csv')\n",
        "\n",
        "spam_dataset = pd.concat(\n",
        "    map(pd.read_csv, ['spam_ham_dataset.csv', 'spam_ham_dataset.csv']), ignore_index=True)\n"
      ],
      "execution_count": null,
      "outputs": []
    },
    {
      "cell_type": "code",
      "source": [
        "X_train, X_test, y_train, y_test = train_test_split(spam_dataset['text'],spam_dataset['label_num'],test_size=0.3)\n",
        "\n",
        "cv = CountVectorizer()\n",
        "X_train = cv.fit_transform(X_train) \n",
        "X_test = cv.transform(X_test) "
      ],
      "metadata": {
        "id": "xzZy_F1Wwpvt"
      },
      "execution_count": null,
      "outputs": []
    },
    {
      "cell_type": "code",
      "source": [
        "nb = MultinomialNB()\n",
        "nb.fit(X_train, y_train)\n",
        "\n",
        "y_pred = nb.predict(X_test)\n",
        "result = accuracy_score(y_test, y_pred)\n",
        "\n",
        "print(\"Accuracy Score: (Naive Bayes)\",f\": {result:.2f}\")"
      ],
      "metadata": {
        "colab": {
          "base_uri": "https://localhost:8080/"
        },
        "id": "osv21pFsw1s-",
        "outputId": "82178c43-f14d-4de2-9b50-5f361c3074fc"
      },
      "execution_count": null,
      "outputs": [
        {
          "output_type": "stream",
          "name": "stdout",
          "text": [
            "Accuracy Score: (Naive Bayes) : 0.99\n"
          ]
        }
      ]
    }
  ]
}