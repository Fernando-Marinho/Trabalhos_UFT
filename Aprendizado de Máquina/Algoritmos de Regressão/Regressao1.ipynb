{
  "nbformat": 4,
  "nbformat_minor": 0,
  "metadata": {
    "colab": {
      "name": "Aula1_exe1.ipynb",
      "provenance": [],
      "collapsed_sections": []
    },
    "kernelspec": {
      "name": "python3",
      "display_name": "Python 3"
    },
    "language_info": {
      "name": "python"
    }
  },
  "cells": [
    {
      "cell_type": "markdown",
      "metadata": {
        "id": "799AP0mmJS1b"
      },
      "source": [
        "**Estudo de Caso: Regressão Linear**\n",
        "\n",
        "Exercício 1 - Dados 1D"
      ]
    },
    {
      "cell_type": "code",
      "metadata": {
        "id": "MrWFW1WpKRXh"
      },
      "source": [
        "import pandas as pd\n",
        "import numpy as np\n",
        "import matplotlib.pyplot as plt"
      ],
      "execution_count": 49,
      "outputs": []
    },
    {
      "cell_type": "markdown",
      "metadata": {
        "id": "-4d1tYCtLu_V"
      },
      "source": [
        "Entrada de Dados"
      ]
    },
    {
      "cell_type": "code",
      "metadata": {
        "id": "pevH2ug7LxDv"
      },
      "source": [
        "filename = 'ex1data1.txt'\n",
        "df = pd.read_csv(filename,header=None,names=['População','Lucro'])"
      ],
      "execution_count": 50,
      "outputs": []
    },
    {
      "cell_type": "code",
      "metadata": {
        "colab": {
          "base_uri": "https://localhost:8080/",
          "height": 203
        },
        "id": "O1gkvv3fMOgP",
        "outputId": "4c767a5d-b8d7-4d6f-c255-7c4eec374bd1"
      },
      "source": [
        "df.head()"
      ],
      "execution_count": 51,
      "outputs": [
        {
          "output_type": "execute_result",
          "data": {
            "text/html": [
              "<div>\n",
              "<style scoped>\n",
              "    .dataframe tbody tr th:only-of-type {\n",
              "        vertical-align: middle;\n",
              "    }\n",
              "\n",
              "    .dataframe tbody tr th {\n",
              "        vertical-align: top;\n",
              "    }\n",
              "\n",
              "    .dataframe thead th {\n",
              "        text-align: right;\n",
              "    }\n",
              "</style>\n",
              "<table border=\"1\" class=\"dataframe\">\n",
              "  <thead>\n",
              "    <tr style=\"text-align: right;\">\n",
              "      <th></th>\n",
              "      <th>População</th>\n",
              "      <th>Lucro</th>\n",
              "    </tr>\n",
              "  </thead>\n",
              "  <tbody>\n",
              "    <tr>\n",
              "      <th>0</th>\n",
              "      <td>6.1101</td>\n",
              "      <td>17.5920</td>\n",
              "    </tr>\n",
              "    <tr>\n",
              "      <th>1</th>\n",
              "      <td>5.5277</td>\n",
              "      <td>9.1302</td>\n",
              "    </tr>\n",
              "    <tr>\n",
              "      <th>2</th>\n",
              "      <td>8.5186</td>\n",
              "      <td>13.6620</td>\n",
              "    </tr>\n",
              "    <tr>\n",
              "      <th>3</th>\n",
              "      <td>7.0032</td>\n",
              "      <td>11.8540</td>\n",
              "    </tr>\n",
              "    <tr>\n",
              "      <th>4</th>\n",
              "      <td>5.8598</td>\n",
              "      <td>6.8233</td>\n",
              "    </tr>\n",
              "  </tbody>\n",
              "</table>\n",
              "</div>"
            ],
            "text/plain": [
              "   População    Lucro\n",
              "0     6.1101  17.5920\n",
              "1     5.5277   9.1302\n",
              "2     8.5186  13.6620\n",
              "3     7.0032  11.8540\n",
              "4     5.8598   6.8233"
            ]
          },
          "metadata": {},
          "execution_count": 51
        }
      ]
    },
    {
      "cell_type": "code",
      "metadata": {
        "colab": {
          "base_uri": "https://localhost:8080/",
          "height": 203
        },
        "id": "WZaE0I9xMX3R",
        "outputId": "955fcead-54a8-45e9-94f9-35661310c6b7"
      },
      "source": [
        "df.tail()"
      ],
      "execution_count": 52,
      "outputs": [
        {
          "output_type": "execute_result",
          "data": {
            "text/html": [
              "<div>\n",
              "<style scoped>\n",
              "    .dataframe tbody tr th:only-of-type {\n",
              "        vertical-align: middle;\n",
              "    }\n",
              "\n",
              "    .dataframe tbody tr th {\n",
              "        vertical-align: top;\n",
              "    }\n",
              "\n",
              "    .dataframe thead th {\n",
              "        text-align: right;\n",
              "    }\n",
              "</style>\n",
              "<table border=\"1\" class=\"dataframe\">\n",
              "  <thead>\n",
              "    <tr style=\"text-align: right;\">\n",
              "      <th></th>\n",
              "      <th>População</th>\n",
              "      <th>Lucro</th>\n",
              "    </tr>\n",
              "  </thead>\n",
              "  <tbody>\n",
              "    <tr>\n",
              "      <th>92</th>\n",
              "      <td>5.8707</td>\n",
              "      <td>7.20290</td>\n",
              "    </tr>\n",
              "    <tr>\n",
              "      <th>93</th>\n",
              "      <td>5.3054</td>\n",
              "      <td>1.98690</td>\n",
              "    </tr>\n",
              "    <tr>\n",
              "      <th>94</th>\n",
              "      <td>8.2934</td>\n",
              "      <td>0.14454</td>\n",
              "    </tr>\n",
              "    <tr>\n",
              "      <th>95</th>\n",
              "      <td>13.3940</td>\n",
              "      <td>9.05510</td>\n",
              "    </tr>\n",
              "    <tr>\n",
              "      <th>96</th>\n",
              "      <td>5.4369</td>\n",
              "      <td>0.61705</td>\n",
              "    </tr>\n",
              "  </tbody>\n",
              "</table>\n",
              "</div>"
            ],
            "text/plain": [
              "    População    Lucro\n",
              "92     5.8707  7.20290\n",
              "93     5.3054  1.98690\n",
              "94     8.2934  0.14454\n",
              "95    13.3940  9.05510\n",
              "96     5.4369  0.61705"
            ]
          },
          "metadata": {},
          "execution_count": 52
        }
      ]
    },
    {
      "cell_type": "code",
      "metadata": {
        "id": "LfV0_atvNEA6"
      },
      "source": [
        "varX = 'População'\n",
        "varY = 'Lucro'\n",
        "\n",
        "X = df[varX].values\n",
        "y = df[varY].values\n",
        "m = y.size"
      ],
      "execution_count": 53,
      "outputs": []
    },
    {
      "cell_type": "markdown",
      "metadata": {
        "id": "Na4EXkXXOK7v"
      },
      "source": [
        "Visualização dos Dados"
      ]
    },
    {
      "cell_type": "code",
      "metadata": {
        "colab": {
          "base_uri": "https://localhost:8080/",
          "height": 350
        },
        "id": "deIzqS-wOO0Q",
        "outputId": "9ad37186-3f00-4a1e-d80b-0be67cc39d44"
      },
      "source": [
        "fig = plt.figure(figsize=(8,5))\n",
        "plt.title('Dados Originais')\n",
        "plt.grid()\n",
        "plt.xlabel(varX)\n",
        "plt.ylabel(varY)\n",
        "plt.scatter(X,y)\n",
        "plt.show()"
      ],
      "execution_count": 54,
      "outputs": [
        {
          "output_type": "display_data",
          "data": {
            "image/png": "[encoded data removed]",
            "text/plain": [
              "<Figure size 576x360 with 1 Axes>"
            ]
          },
          "metadata": {
            "needs_background": "light"
          }
        }
      ]
    },
    {
      "cell_type": "markdown",
      "metadata": {
        "id": "1AIh05liPPaH"
      },
      "source": [
        "Ajustes Manuais"
      ]
    },
    {
      "cell_type": "code",
      "metadata": {
        "colab": {
          "base_uri": "https://localhost:8080/"
        },
        "id": "Y2gCypt6PROU",
        "outputId": "bcf9a3e0-81cf-4be9-e31c-d08b7ab1520f"
      },
      "source": [
        "# Construção de X\n",
        "\n",
        "Xn = np.ones((m,2))\n",
        "Xn[:,1] = X\n",
        "X = Xn\n",
        "print(X[:5,:])"
      ],
      "execution_count": 55,
      "outputs": [
        {
          "output_type": "stream",
          "name": "stdout",
          "text": [
            "[[1.     6.1101]\n",
            " [1.     5.5277]\n",
            " [1.     8.5186]\n",
            " [1.     7.0032]\n",
            " [1.     5.8598]]\n"
          ]
        }
      ]
    },
    {
      "cell_type": "code",
      "metadata": {
        "colab": {
          "base_uri": "https://localhost:8080/"
        },
        "id": "Jj7vBUVOQMLT",
        "outputId": "c81ae31b-e499-4d42-ee88-336801125104"
      },
      "source": [
        "yn = np.zeros((m,1))\n",
        "yn[:,0] = y\n",
        "y = yn\n",
        "print(y[:5])"
      ],
      "execution_count": 56,
      "outputs": [
        {
          "output_type": "stream",
          "name": "stdout",
          "text": [
            "[[17.592 ]\n",
            " [ 9.1302]\n",
            " [13.662 ]\n",
            " [11.854 ]\n",
            " [ 6.8233]]\n"
          ]
        }
      ]
    },
    {
      "cell_type": "code",
      "metadata": {
        "colab": {
          "base_uri": "https://localhost:8080/"
        },
        "id": "IUBqfMZ2Q1TL",
        "outputId": "88c4d14f-a4d2-44fa-aea7-197681e75895"
      },
      "source": [
        "#w = np.array([[y.mean(),0]]).T\n",
        "w = np.array([[-1.0,1.0]]).T\n",
        "\n",
        "print(w)"
      ],
      "execution_count": 57,
      "outputs": [
        {
          "output_type": "stream",
          "name": "stdout",
          "text": [
            "[[-1.]\n",
            " [ 1.]]\n"
          ]
        }
      ]
    },
    {
      "cell_type": "code",
      "metadata": {
        "id": "AntK3yUESYIY"
      },
      "source": [
        "yest = X.dot(w)"
      ],
      "execution_count": 58,
      "outputs": []
    },
    {
      "cell_type": "code",
      "metadata": {
        "colab": {
          "base_uri": "https://localhost:8080/",
          "height": 404
        },
        "id": "ChxnxgoVStPu",
        "outputId": "3fd086f8-6fe4-4039-dd29-1b4fc4805022"
      },
      "source": [
        "fig = plt.figure(figsize=(10,6))\n",
        "plt.title('Dados Originais e Reta')\n",
        "plt.grid()\n",
        "plt.xlabel(varX)\n",
        "plt.ylabel(varY)\n",
        "plt.scatter(X[:,1],y)\n",
        "plt.plot(X[:,1],yest,color = 'red')\n",
        "plt.show()"
      ],
      "execution_count": 59,
      "outputs": [
        {
          "output_type": "display_data",
          "data": {
            "image/png": "[encoded data removed]",
            "text/plain": [
              "<Figure size 720x432 with 1 Axes>"
            ]
          },
          "metadata": {
            "needs_background": "light"
          }
        }
      ]
    },
    {
      "cell_type": "markdown",
      "metadata": {
        "id": "GICqL8qUUx75"
      },
      "source": [
        "Função de Perdas"
      ]
    },
    {
      "cell_type": "code",
      "metadata": {
        "colab": {
          "base_uri": "https://localhost:8080/"
        },
        "id": "rmXyO2mBWMoX",
        "outputId": "ecd63a9a-cab5-4a58-963c-072b036231c4"
      },
      "source": [
        "w = np.array([[-1.0,1.0]]).T\n",
        "\n",
        "yest = X.dot(w)\n",
        "erro = yest - y\n",
        "fp = (erro**2).mean()/2\n",
        "print(fp)"
      ],
      "execution_count": 60,
      "outputs": [
        {
          "output_type": "stream",
          "name": "stdout",
          "text": [
            "5.625190594476288\n"
          ]
        }
      ]
    },
    {
      "cell_type": "markdown",
      "metadata": {
        "id": "4mBpU-rOW9Sy"
      },
      "source": [
        "Gradient Descent"
      ]
    },
    {
      "cell_type": "code",
      "metadata": {
        "id": "xMGb9gSyXb31"
      },
      "source": [
        "def calcula_Jw(X, y, w):\n",
        "  yest = X.dot(w)\n",
        "  erro = yest - y\n",
        "  return (erro**2).mean()/2"
      ],
      "execution_count": 61,
      "outputs": []
    },
    {
      "cell_type": "code",
      "metadata": {
        "id": "ApnXnIFCYwFA"
      },
      "source": [
        "def calcula_iteracoes_GD(X, y, w, alpha, iters):\n",
        "  m = y.size\n",
        "  mem_Jw = np.zeros((iters,1))\n",
        "\n",
        "  for iter in range(iters):\n",
        "    yest = X.dot(w)\n",
        "    w = w - (alpha/m) * (X.T).dot(yest-y)\n",
        "    mem_Jw[iter] = calcula_Jw(X, y, w)\n",
        "  \n",
        "  return w,mem_Jw"
      ],
      "execution_count": 62,
      "outputs": []
    },
    {
      "cell_type": "code",
      "metadata": {
        "colab": {
          "base_uri": "https://localhost:8080/"
        },
        "id": "FSIYkKEIZ0oB",
        "outputId": "be2d3849-ba95-4c29-db43-22ee60ad3c11"
      },
      "source": [
        "w = np.array([[y.mean(),0]]).T\n",
        "alpha = 0.02\n",
        "iters = 2000\n",
        "w,mem_Jw = calcula_iteracoes_GD(X, y, w, alpha,iters)\n",
        "print(f'w = \\n{w}')"
      ],
      "execution_count": 63,
      "outputs": [
        {
          "output_type": "stream",
          "name": "stdout",
          "text": [
            "w = \n",
            "[[-3.88866551]\n",
            " [ 1.19231883]]\n"
          ]
        }
      ]
    },
    {
      "cell_type": "code",
      "metadata": {
        "colab": {
          "base_uri": "https://localhost:8080/",
          "height": 404
        },
        "id": "_susW5z3anrQ",
        "outputId": "6bf9de4f-9bec-4a70-cd95-b40e07dc5271"
      },
      "source": [
        "fig = plt.figure(figsize=(10,6))\n",
        "plt.title(f'Evolução da função Jw - (MSE {mem_Jw[-1]})')\n",
        "plt.grid()\n",
        "plt.xlabel('Iterações')\n",
        "plt.ylabel('J(w)')\n",
        "plt.plot(range(iters),mem_Jw)\n",
        "plt.show()"
      ],
      "execution_count": 64,
      "outputs": [
        {
          "output_type": "display_data",
          "data": {
            "image/png": "[encoded data removed]",
            "text/plain": [
              "<Figure size 720x432 with 1 Axes>"
            ]
          },
          "metadata": {
            "needs_background": "light"
          }
        }
      ]
    },
    {
      "cell_type": "code",
      "metadata": {
        "id": "FiCVG_kochiI"
      },
      "source": [
        "yest = X.dot(w)"
      ],
      "execution_count": 65,
      "outputs": []
    },
    {
      "cell_type": "code",
      "metadata": {
        "colab": {
          "base_uri": "https://localhost:8080/",
          "height": 404
        },
        "id": "rYyhIPImcYib",
        "outputId": "168383ac-3fa7-48f0-9293-6948cbb5df86"
      },
      "source": [
        "fig = plt.figure(figsize=(10,6))\n",
        "plt.title('Dados Originais e Reta')\n",
        "plt.grid()\n",
        "plt.xlabel(varX)\n",
        "plt.ylabel(varY)\n",
        "plt.scatter(X[:,1],y)\n",
        "plt.plot(X[:,1],yest,color = 'red')\n",
        "plt.show()"
      ],
      "execution_count": 66,
      "outputs": [
        {
          "output_type": "display_data",
          "data": {
            "image/png": "[encoded data removed]",
            "text/plain": [
              "<Figure size 720x432 with 1 Axes>"
            ]
          },
          "metadata": {
            "needs_background": "light"
          }
        }
      ]
    }
  ]
}